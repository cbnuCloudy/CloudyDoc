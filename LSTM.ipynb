{
  "cells": [
    {
      "cell_type": "code",
      "execution_count": null,
      "metadata": {
        "id": "zE5j5Uzy-HlF"
      },
      "outputs": [],
      "source": [
        "#!pip install yfinance"
      ]
    },
    {
      "cell_type": "code",
      "execution_count": null,
      "metadata": {
        "id": "B2OnfNfo-ann"
      },
      "outputs": [],
      "source": [
        "#!pip install anvil"
      ]
    },
    {
      "cell_type": "code",
      "execution_count": null,
      "metadata": {
        "id": "Sj269fun_dQ0"
      },
      "outputs": [],
      "source": [
        "#!pip3 install anvil-uplink"
      ]
    },
    {
      "cell_type": "code",
      "execution_count": null,
      "metadata": {
        "id": "MvPjqDkwOGfG"
      },
      "outputs": [],
      "source": [
        "import numpy as np\n",
        "import pandas as pd \n",
        "import yfinance as yf # Yahoo finance 에서 제공하는 데이터에 접근 가능\n"
      ]
    },
    {
      "cell_type": "code",
      "execution_count": null,
      "metadata": {
        "id": "nnADXj4OKUjz"
      },
      "outputs": [],
      "source": [
        "import anvil.server\n",
        "import anvil.mpl_util\n",
        "global all_data"
      ]
    },
    {
      "cell_type": "code",
      "execution_count": null,
      "metadata": {
        "id": "UAsuQjGpKsoa"
      },
      "outputs": [],
      "source": [
        "anvil.server.connect(\"BIYPDYG7WDMRMCAFS3STM2VF-7WWLUHLPEZQXNRDL\")"
      ]
    },
    {
      "cell_type": "code",
      "execution_count": null,
      "metadata": {
        "id": "WV5mO0FxPSOx"
      },
      "outputs": [],
      "source": [
        "def ts_train_test_normalize(all_data, time_steps, for_periods):\n",
        "    \"\"\"\n",
        "    input: \n",
        "        data: dataframe with dates and price data\n",
        "    output: \n",
        "        X_train, y_train: data from 2013/1/1-2018/12/31 \n",
        "        X_test : data from 2019- \n",
        "        sc :     insantiated MinMaxScaler object fit to the training data \n",
        "    \"\"\"\n",
        "    # create training and test set \n",
        "    ts_train = all_data[:'2018'].iloc[:,0:1].values\n",
        "    ts_test = all_data['2019':].iloc[:,0:1].values \n",
        "    ts_train_len = len(ts_train)\n",
        "    ts_test_len = len(ts_test)\n",
        "    \n",
        "    # scale the data \n",
        "    from sklearn.preprocessing import MinMaxScaler \n",
        "    sc = MinMaxScaler(feature_range=(0,1))\n",
        "    ts_train_scaled = sc.fit_transform(ts_train)\n",
        "    \n",
        "    # create training data of s samples and t time steps \n",
        "    X_train = [] \n",
        "    y_train = [] \n",
        "    for i in range(time_steps, ts_train_len-1):\n",
        "        X_train.append(ts_train_scaled[i-time_steps:i, 0])\n",
        "        y_train.append(ts_train_scaled[i:i+for_periods, 0])\n",
        "    X_train, y_train = np.array(X_train), np.array(y_train)\n",
        "    \n",
        "    # Reshaping X_train for efficient modelling \n",
        "    X_train = np.reshape(X_train, (X_train.shape[0], X_train.shape[1], 1 ))\n",
        "    \n",
        "    inputs = pd.concat((all_data[\"Adj Close\"][:'2018'], all_data[\"Adj Close\"]['2019':]), axis=0).values\n",
        "    inputs = inputs[len(inputs)-len(ts_test)-time_steps:]\n",
        "    inputs = inputs.reshape(-1,1)\n",
        "    inputs = sc.transform(inputs)\n",
        "    \n",
        "    # Preparing X_test \n",
        "    X_test = [] \n",
        "    for i in range(time_steps, ts_test_len + time_steps - for_periods):\n",
        "        X_test.append(inputs[i-time_steps:i,0])\n",
        "    \n",
        "    X_test = np.array(X_test)\n",
        "    X_test = np.reshape(X_test, (X_test.shape[0], X_test.shape[1], 1))\n",
        "    \n",
        "    return X_train, y_train , X_test, sc "
      ]
    },
    {
      "cell_type": "code",
      "execution_count": null,
      "metadata": {
        "id": "rvy0cK9RPWOd"
      },
      "outputs": [],
      "source": []
    },
    {
      "cell_type": "code",
      "execution_count": null,
      "metadata": {
        "id": "7uP3rNF3PZwx"
      },
      "outputs": [],
      "source": [
        "\n"
      ]
    },
    {
      "cell_type": "code",
      "execution_count": null,
      "metadata": {
        "id": "UnmZgn1RA5lI"
      },
      "outputs": [],
      "source": []
    },
    {
      "cell_type": "code",
      "execution_count": null,
      "metadata": {
        "id": "c0YuqhNzPdho"
      },
      "outputs": [],
      "source": [
        "def LSTM_model(X_train, y_train, X_test, sc):\n",
        "    # create a model\n",
        "    from keras.models import Sequential\n",
        "    from keras.layers import Dense, SimpleRNN, GRU, LSTM\n",
        "    from keras.optimizers import SGD\n",
        "    \n",
        "    # The LSTM architecture\n",
        "    my_LSTM_model = Sequential()\n",
        "    my_LSTM_model.add(LSTM(units = 50, \n",
        "                           return_sequences = True, \n",
        "                           input_shape = (X_train.shape[1],1), \n",
        "                           activation = 'tanh'))\n",
        "    my_LSTM_model.add(LSTM(units = 50, activation = 'tanh'))\n",
        "    my_LSTM_model.add(Dense(units=2))\n",
        "    \n",
        "    # Compiling \n",
        "    my_LSTM_model.compile(optimizer = SGD(lr = 0.01, decay = 1e-7, \n",
        "                                         momentum = 0.9, nesterov = False),\n",
        "                         loss = 'mean_squared_error')\n",
        "    \n",
        "    # Fitting to the training set \n",
        "    my_LSTM_model.fit(X_train, y_train, epochs = 50, batch_size = 150, verbose = 0)\n",
        "    \n",
        "    LSTM_prediction = my_LSTM_model.predict(X_test)\n",
        "    LSTM_prediction = sc.inverse_transform(LSTM_prediction)\n",
        "    \n",
        "    return my_LSTM_model, LSTM_prediction "
      ]
    },
    {
      "cell_type": "code",
      "execution_count": null,
      "metadata": {
        "id": "Yqk8UB9JPgDV"
      },
      "outputs": [],
      "source": [
        "\n",
        "def actual_pred_plot(preds, all_data):\n",
        "    \"\"\"\n",
        "    Plot the actual vs predition\n",
        "    \"\"\"\n",
        "    actual_pred = pd.DataFrame(columns = ['Adj. Close', 'prediction'])\n",
        "    actual_pred['Adj. Close'] = all_data.loc['2019':,'Adj Close'][0:len(preds)]\n",
        "    actual_pred['prediction'] = preds[:,0]\n",
        "    \n",
        "    from keras.metrics import MeanSquaredError \n",
        "    m = MeanSquaredError()\n",
        "    m.update_state(np.array(actual_pred['Adj. Close']), np.array(actual_pred['prediction']))\n",
        "    \n",
        "    return (actual_pred.plot())"
      ]
    },
    {
      "cell_type": "code",
      "execution_count": null,
      "metadata": {
        "id": "8ml-vVsuM0iV"
      },
      "outputs": [],
      "source": [
        "@anvil.server.callable\n",
        "def predict(name, date):\n",
        "  A = yf.download( name,\n",
        "                   start = '2013-01-01',\n",
        "                   end = date,\n",
        "                   progress = False)\n",
        "  all_data = A[['Adj Close', 'Open', 'High','Low',\"Close\",\"Volume\"]].round(2)\n",
        "  all_data.head(10)\n",
        "  print(\"There are \"+str(all_data[:'2018'].shape[0])+\" observations in the training data\")\n",
        "  print(\"There are \"+str(all_data['2019':].shape[0])+\" observations in the test data\")\n",
        "\n",
        "\n",
        "  X_train, y_train, X_test, sc = ts_train_test_normalize(all_data, 5,2)\n",
        "  X_train.shape[0], X_train.shape[1]\n",
        "  # Convert the 3D shape of X_train to a data frame so we can see: \n",
        "  X_train_see = pd.DataFrame(np.reshape(X_train, (X_train.shape[0], X_train.shape[1])))\n",
        "  y_train_see = pd.DataFrame(y_train)\n",
        "  pd.concat([X_train_see, y_train_see], axis = 1)\n",
        "\n",
        "  # Convert the 3D shape of X_test to a data frame so we can see: \n",
        "  X_test_see = pd.DataFrame(np.reshape(X_test, (X_test.shape[0], X_test.shape[1])))\n",
        "  pd.DataFrame(X_test_see)\n",
        "  my_LSTM_model, LSTM_prediction = LSTM_model(X_train, y_train, X_test, sc)\n",
        "  LSTM_prediction[1:10]\n",
        "  actual_pred_plot(LSTM_prediction, all_data)\n",
        "\n",
        "    \n",
        "  return anvil.mpl_util.plot_image()\n"
      ]
    },
    {
      "cell_type": "code",
      "execution_count": null,
      "metadata": {
        "colab": {
          "background_save": true,
          "base_uri": "https://localhost:8080/"
        },
        "id": "fKLUlUFGTVPA",
        "outputId": "82508dba-f189-47c6-b2a4-390ca6651ab3"
      },
      "outputs": [
        {
          "name": "stdout",
          "output_type": "stream",
          "text": [
            "There are 1472 observations in the training data\n",
            "There are 972 observations in the test data\n"
          ]
        },
        {
          "name": "stderr",
          "output_type": "stream",
          "text": [
            "/usr/local/lib/python3.8/dist-packages/keras/optimizers/optimizer_v2/gradient_descent.py:108: UserWarning: The `lr` argument is deprecated, use `learning_rate` instead.\n",
            "  super(SGD, self).__init__(name, **kwargs)\n"
          ]
        },
        {
          "name": "stdout",
          "output_type": "stream",
          "text": [
            "31/31 [==============================] - 1s 3ms/step\n",
            "There are 1472 observations in the training data\n",
            "There are 972 observations in the test data\n"
          ]
        },
        {
          "name": "stderr",
          "output_type": "stream",
          "text": [
            "/usr/local/lib/python3.8/dist-packages/keras/optimizers/optimizer_v2/gradient_descent.py:108: UserWarning: The `lr` argument is deprecated, use `learning_rate` instead.\n",
            "  super(SGD, self).__init__(name, **kwargs)\n"
          ]
        },
        {
          "name": "stdout",
          "output_type": "stream",
          "text": [
            "31/31 [==============================] - 1s 3ms/step\n"
          ]
        }
      ],
      "source": [
        "anvil.server.wait_forever()\n"
      ]
    },
    {
      "cell_type": "markdown",
      "metadata": {
        "id": "6_3ZEu3Y10Q1"
      },
      "source": []
    }
  ],
  "metadata": {
    "colab": {
      "provenance": []
    },
    "kernelspec": {
      "display_name": "Python 3",
      "name": "python3"
    },
    "language_info": {
      "name": "python"
    }
  },
  "nbformat": 4,
  "nbformat_minor": 0
}